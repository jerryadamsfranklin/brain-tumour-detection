{
 "cells": [
  {
   "cell_type": "markdown",
   "metadata": {},
   "source": [
    "#### Import modules and read data"
   ]
  },
  {
   "cell_type": "code",
   "execution_count": 1,
   "metadata": {},
   "outputs": [],
   "source": [
    "import matplotlib.pyplot as plt\n",
    "import numpy as np\n",
    "import os\n",
    "import pandas as pd\n",
    "\n",
    "from sklearn import metrics\n",
    "from sklearn.feature_selection import f_classif, SelectKBest\n",
    "from sklearn.linear_model import LogisticRegression\n",
    "from sklearn.model_selection import cross_val_score, KFold, RepeatedKFold"
   ]
  },
  {
   "cell_type": "code",
   "execution_count": 2,
   "metadata": {},
   "outputs": [
    {
     "data": {
      "text/html": [
       "<div>\n",
       "<style scoped>\n",
       "    .dataframe tbody tr th:only-of-type {\n",
       "        vertical-align: middle;\n",
       "    }\n",
       "\n",
       "    .dataframe tbody tr th {\n",
       "        vertical-align: top;\n",
       "    }\n",
       "\n",
       "    .dataframe thead th {\n",
       "        text-align: right;\n",
       "    }\n",
       "</style>\n",
       "<table border=\"1\" class=\"dataframe\">\n",
       "  <thead>\n",
       "    <tr style=\"text-align: right;\">\n",
       "      <th></th>\n",
       "      <th>Image</th>\n",
       "      <th>Mean</th>\n",
       "      <th>Variance</th>\n",
       "      <th>Standard Deviation</th>\n",
       "      <th>Entropy</th>\n",
       "      <th>Skewness</th>\n",
       "      <th>Kurtosis</th>\n",
       "      <th>Contrast</th>\n",
       "      <th>Energy</th>\n",
       "      <th>ASM</th>\n",
       "      <th>Homogeneity</th>\n",
       "      <th>Dissimilarity</th>\n",
       "      <th>Correlation</th>\n",
       "      <th>Coarseness</th>\n",
       "      <th>Class</th>\n",
       "    </tr>\n",
       "  </thead>\n",
       "  <tbody>\n",
       "    <tr>\n",
       "      <th>0</th>\n",
       "      <td>Image1</td>\n",
       "      <td>0.194705</td>\n",
       "      <td>0.212023</td>\n",
       "      <td>0.443074</td>\n",
       "      <td>0.274801</td>\n",
       "      <td>0.068211</td>\n",
       "      <td>0.010937</td>\n",
       "      <td>0.028236</td>\n",
       "      <td>0.475410</td>\n",
       "      <td>0.246092</td>\n",
       "      <td>0.603108</td>\n",
       "      <td>0.139694</td>\n",
       "      <td>0.981764</td>\n",
       "      <td>0.0</td>\n",
       "      <td>0</td>\n",
       "    </tr>\n",
       "    <tr>\n",
       "      <th>1</th>\n",
       "      <td>Image2</td>\n",
       "      <td>0.261489</td>\n",
       "      <td>0.276124</td>\n",
       "      <td>0.510114</td>\n",
       "      <td>0.674843</td>\n",
       "      <td>0.052278</td>\n",
       "      <td>0.007693</td>\n",
       "      <td>0.017951</td>\n",
       "      <td>0.797096</td>\n",
       "      <td>0.648383</td>\n",
       "      <td>0.773800</td>\n",
       "      <td>0.093527</td>\n",
       "      <td>0.997417</td>\n",
       "      <td>0.0</td>\n",
       "      <td>0</td>\n",
       "    </tr>\n",
       "    <tr>\n",
       "      <th>2</th>\n",
       "      <td>Image3</td>\n",
       "      <td>0.219003</td>\n",
       "      <td>0.392326</td>\n",
       "      <td>0.614200</td>\n",
       "      <td>0.001487</td>\n",
       "      <td>0.090618</td>\n",
       "      <td>0.016478</td>\n",
       "      <td>0.023280</td>\n",
       "      <td>0.012719</td>\n",
       "      <td>0.001173</td>\n",
       "      <td>0.230760</td>\n",
       "      <td>0.195261</td>\n",
       "      <td>0.972855</td>\n",
       "      <td>0.0</td>\n",
       "      <td>1</td>\n",
       "    </tr>\n",
       "    <tr>\n",
       "      <th>3</th>\n",
       "      <td>Image4</td>\n",
       "      <td>0.177300</td>\n",
       "      <td>0.329007</td>\n",
       "      <td>0.559750</td>\n",
       "      <td>0.001513</td>\n",
       "      <td>0.108202</td>\n",
       "      <td>0.021559</td>\n",
       "      <td>0.043805</td>\n",
       "      <td>0.012908</td>\n",
       "      <td>0.001192</td>\n",
       "      <td>0.196137</td>\n",
       "      <td>0.258588</td>\n",
       "      <td>0.941475</td>\n",
       "      <td>0.0</td>\n",
       "      <td>1</td>\n",
       "    </tr>\n",
       "    <tr>\n",
       "      <th>4</th>\n",
       "      <td>Image5</td>\n",
       "      <td>0.218223</td>\n",
       "      <td>0.249840</td>\n",
       "      <td>0.483677</td>\n",
       "      <td>0.370574</td>\n",
       "      <td>0.068403</td>\n",
       "      <td>0.011067</td>\n",
       "      <td>0.050836</td>\n",
       "      <td>0.564860</td>\n",
       "      <td>0.338854</td>\n",
       "      <td>0.560862</td>\n",
       "      <td>0.226679</td>\n",
       "      <td>0.960995</td>\n",
       "      <td>0.0</td>\n",
       "      <td>0</td>\n",
       "    </tr>\n",
       "  </tbody>\n",
       "</table>\n",
       "</div>"
      ],
      "text/plain": [
       "    Image      Mean  Variance  Standard Deviation   Entropy  Skewness  \\\n",
       "0  Image1  0.194705  0.212023            0.443074  0.274801  0.068211   \n",
       "1  Image2  0.261489  0.276124            0.510114  0.674843  0.052278   \n",
       "2  Image3  0.219003  0.392326            0.614200  0.001487  0.090618   \n",
       "3  Image4  0.177300  0.329007            0.559750  0.001513  0.108202   \n",
       "4  Image5  0.218223  0.249840            0.483677  0.370574  0.068403   \n",
       "\n",
       "   Kurtosis  Contrast    Energy       ASM  Homogeneity  Dissimilarity  \\\n",
       "0  0.010937  0.028236  0.475410  0.246092     0.603108       0.139694   \n",
       "1  0.007693  0.017951  0.797096  0.648383     0.773800       0.093527   \n",
       "2  0.016478  0.023280  0.012719  0.001173     0.230760       0.195261   \n",
       "3  0.021559  0.043805  0.012908  0.001192     0.196137       0.258588   \n",
       "4  0.011067  0.050836  0.564860  0.338854     0.560862       0.226679   \n",
       "\n",
       "   Correlation  Coarseness  Class  \n",
       "0     0.981764         0.0      0  \n",
       "1     0.997417         0.0      0  \n",
       "2     0.972855         0.0      1  \n",
       "3     0.941475         0.0      1  \n",
       "4     0.960995         0.0      0  "
      ]
     },
     "execution_count": 2,
     "metadata": {},
     "output_type": "execute_result"
    }
   ],
   "source": [
    "normal_data = pd.read_csv(os.getcwd() + '/Data/brain_tumour_normalized.csv')\n",
    "normal_data.head()"
   ]
  },
  {
   "cell_type": "code",
   "execution_count": 3,
   "metadata": {},
   "outputs": [
    {
     "data": {
      "text/plain": [
       "((3762, 13), (3762,))"
      ]
     },
     "execution_count": 3,
     "metadata": {},
     "output_type": "execute_result"
    }
   ],
   "source": [
    "X, Y = normal_data[normal_data.columns[1 : 14]], normal_data[normal_data.columns[-1]]\n",
    "X.shape, Y.shape"
   ]
  },
  {
   "cell_type": "markdown",
   "metadata": {},
   "source": [
    "#### Feature Selection\n",
    "\n",
    "Input variables are numeric, output variable is categorical. Hence, we use [ANOVA correlation coeff.](https://machinelearningmastery.com/feature-selection-with-real-and-categorical-data/)"
   ]
  },
  {
   "cell_type": "code",
   "execution_count": 4,
   "metadata": {},
   "outputs": [],
   "source": [
    "k = 6\n",
    "\n",
    "feature_selection = SelectKBest(score_func = f_classif, k = k)  # select k best features using ANOVA F-value\n",
    "\n",
    "fit = feature_selection.fit(X, Y)"
   ]
  },
  {
   "cell_type": "code",
   "execution_count": 5,
   "metadata": {},
   "outputs": [
    {
     "data": {
      "text/html": [
       "<div>\n",
       "<style scoped>\n",
       "    .dataframe tbody tr th:only-of-type {\n",
       "        vertical-align: middle;\n",
       "    }\n",
       "\n",
       "    .dataframe tbody tr th {\n",
       "        vertical-align: top;\n",
       "    }\n",
       "\n",
       "    .dataframe thead th {\n",
       "        text-align: right;\n",
       "    }\n",
       "</style>\n",
       "<table border=\"1\" class=\"dataframe\">\n",
       "  <thead>\n",
       "    <tr style=\"text-align: right;\">\n",
       "      <th></th>\n",
       "      <th>scores</th>\n",
       "      <th>cols</th>\n",
       "    </tr>\n",
       "  </thead>\n",
       "  <tbody>\n",
       "    <tr>\n",
       "      <th>7</th>\n",
       "      <td>10913.518208</td>\n",
       "      <td>Energy</td>\n",
       "    </tr>\n",
       "    <tr>\n",
       "      <th>9</th>\n",
       "      <td>9587.758475</td>\n",
       "      <td>Homogeneity</td>\n",
       "    </tr>\n",
       "    <tr>\n",
       "      <th>3</th>\n",
       "      <td>5772.609943</td>\n",
       "      <td>Entropy</td>\n",
       "    </tr>\n",
       "    <tr>\n",
       "      <th>8</th>\n",
       "      <td>5086.027179</td>\n",
       "      <td>ASM</td>\n",
       "    </tr>\n",
       "    <tr>\n",
       "      <th>10</th>\n",
       "      <td>1685.254630</td>\n",
       "      <td>Dissimilarity</td>\n",
       "    </tr>\n",
       "    <tr>\n",
       "      <th>4</th>\n",
       "      <td>727.528516</td>\n",
       "      <td>Skewness</td>\n",
       "    </tr>\n",
       "  </tbody>\n",
       "</table>\n",
       "</div>"
      ],
      "text/plain": [
       "          scores           cols\n",
       "7   10913.518208         Energy\n",
       "9    9587.758475    Homogeneity\n",
       "3    5772.609943        Entropy\n",
       "8    5086.027179            ASM\n",
       "10   1685.254630  Dissimilarity\n",
       "4     727.528516       Skewness"
      ]
     },
     "execution_count": 5,
     "metadata": {},
     "output_type": "execute_result"
    }
   ],
   "source": [
    "pd.DataFrame({'scores': fit.scores_, 'cols': X.columns}).sort_values(by = 'scores', ascending = False).head(k)  # k best features"
   ]
  },
  {
   "cell_type": "markdown",
   "metadata": {},
   "source": [
    "Get new X:"
   ]
  },
  {
   "cell_type": "code",
   "execution_count": 6,
   "metadata": {},
   "outputs": [
    {
     "data": {
      "text/plain": [
       "(3762, 6)"
      ]
     },
     "execution_count": 6,
     "metadata": {},
     "output_type": "execute_result"
    }
   ],
   "source": [
    "X_fs = feature_selection.transform(X)\n",
    "X_fs.shape"
   ]
  },
  {
   "cell_type": "markdown",
   "metadata": {},
   "source": [
    "#### Logistic Regression"
   ]
  },
  {
   "cell_type": "code",
   "execution_count": 7,
   "metadata": {},
   "outputs": [],
   "source": [
    "cv = KFold(n_splits = 5, shuffle = True, random_state = 42)  # create CV splits"
   ]
  },
  {
   "cell_type": "code",
   "execution_count": 8,
   "metadata": {},
   "outputs": [],
   "source": [
    "logisticRegr = LogisticRegression()  # create model"
   ]
  },
  {
   "cell_type": "code",
   "execution_count": 9,
   "metadata": {},
   "outputs": [
    {
     "data": {
      "image/png": "[encoded data removed]",
      "text/plain": [
       "<Figure size 432x288 with 1 Axes>"
      ]
     },
     "metadata": {
      "needs_background": "light"
     },
     "output_type": "display_data"
    },
    {
     "name": "stdout",
     "output_type": "stream",
     "text": [
      "Overall accuracy: 97.52800853324291\n",
      "Overall std. dev. of scores: 0.004866627819674722\n"
     ]
    }
   ],
   "source": [
    "fig, ax = plt.subplots()\n",
    "\n",
    "tprs, aucs, mean_fpr = [], [], np.linspace(0, 1, 100)  # true pos rates, area under curves, mean false pos rate\n",
    "scores = []\n",
    "\n",
    "for i, (train, test) in enumerate(cv.split(X_fs, Y)):\n",
    "    logisticRegr.fit(X_fs[train], Y[train])  # train model\n",
    "    \n",
    "    scores.append(metrics.accuracy_score(Y[test], logisticRegr.predict(X_fs[test])))  # get accuracy of current model\n",
    "    \n",
    "    vis = metrics.plot_roc_curve(logisticRegr, X_fs[test], Y[test], name = 'ROC fold {}'.format(i), lw = 1, alpha = 0.3, ax = ax)  # plot ROC curve\n",
    "    \n",
    "    interp_tpr = np.interp(mean_fpr, vis.fpr, vis.tpr)  # interpolate true pos rate\n",
    "    interp_tpr[0] = 0.0\n",
    "    tprs.append(interp_tpr)\n",
    "    aucs.append(vis.roc_auc)\n",
    "    \n",
    "ax.plot([0, 1], [0, 1], linestyle = '--', lw = 2, color = '#ff0000', label = 'Chance', alpha = 0.5)\n",
    "\n",
    "mean_tpr = np.mean(tprs, axis = 0)\n",
    "mean_tpr[-1] = 1.0\n",
    "mean_auc = metrics.auc(mean_fpr, mean_tpr)  # mean area under curve\n",
    "std_auc = np.std(aucs)  # auc std dev\n",
    "ax.plot(mean_fpr, mean_tpr, color = '#552583', label = r'Mean ROC (AUC = %0.3f $\\pm$ %0.3f)' % (mean_auc, std_auc), lw = 2, alpha = 0.8)\n",
    "\n",
    "ax.set_title('ROC Curve: Logistic Regression\\nwith feature selection and 5-fold CV')\n",
    "ax.legend()\n",
    "plt.tight_layout()\n",
    "plt.savefig(os.getcwd() + '/Graphs/featureSelection/logisticRegr')\n",
    "plt.show()\n",
    "plt.close()\n",
    "\n",
    "scores = np.array(scores)\n",
    "print('Overall accuracy:', scores.mean() * 100)\n",
    "print('Overall std. dev. of scores:', scores.std())"
   ]
  }
 ],
 "metadata": {
  "kernelspec": {
   "display_name": "Python 3",
   "language": "python",
   "name": "python3"
  },
  "language_info": {
   "codemirror_mode": {
    "name": "ipython",
    "version": 3
   },
   "file_extension": ".py",
   "mimetype": "text/x-python",
   "name": "python",
   "nbconvert_exporter": "python",
   "pygments_lexer": "ipython3",
   "version": "3.8.2"
  }
 },
 "nbformat": 4,
 "nbformat_minor": 4
}
