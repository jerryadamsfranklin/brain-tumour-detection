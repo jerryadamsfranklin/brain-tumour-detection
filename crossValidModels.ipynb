{
 "cells": [
  {
   "cell_type": "markdown",
   "metadata": {},
   "source": [
    "#### Import modules and read data"
   ]
  },
  {
   "cell_type": "code",
   "execution_count": 1,
   "metadata": {},
   "outputs": [],
   "source": [
    "import numpy as np\n",
    "import os\n",
    "import pandas as pd\n",
    "\n",
    "from sklearn import metrics\n",
    "from sklearn.linear_model import LogisticRegression\n",
    "from sklearn.model_selection import cross_val_score, KFold, RepeatedKFold\n",
    "from sklearn.svm import SVC"
   ]
  },
  {
   "cell_type": "code",
   "execution_count": 2,
   "metadata": {},
   "outputs": [
    {
     "data": {
      "text/html": [
       "<div>\n",
       "<style scoped>\n",
       "    .dataframe tbody tr th:only-of-type {\n",
       "        vertical-align: middle;\n",
       "    }\n",
       "\n",
       "    .dataframe tbody tr th {\n",
       "        vertical-align: top;\n",
       "    }\n",
       "\n",
       "    .dataframe thead th {\n",
       "        text-align: right;\n",
       "    }\n",
       "</style>\n",
       "<table border=\"1\" class=\"dataframe\">\n",
       "  <thead>\n",
       "    <tr style=\"text-align: right;\">\n",
       "      <th></th>\n",
       "      <th>Image</th>\n",
       "      <th>Mean</th>\n",
       "      <th>Variance</th>\n",
       "      <th>Standard Deviation</th>\n",
       "      <th>Entropy</th>\n",
       "      <th>Skewness</th>\n",
       "      <th>Kurtosis</th>\n",
       "      <th>Contrast</th>\n",
       "      <th>Energy</th>\n",
       "      <th>ASM</th>\n",
       "      <th>Homogeneity</th>\n",
       "      <th>Dissimilarity</th>\n",
       "      <th>Correlation</th>\n",
       "      <th>Coarseness</th>\n",
       "      <th>Class</th>\n",
       "    </tr>\n",
       "  </thead>\n",
       "  <tbody>\n",
       "    <tr>\n",
       "      <th>0</th>\n",
       "      <td>Image1</td>\n",
       "      <td>0.194705</td>\n",
       "      <td>0.212023</td>\n",
       "      <td>0.443074</td>\n",
       "      <td>0.274801</td>\n",
       "      <td>0.068211</td>\n",
       "      <td>0.010937</td>\n",
       "      <td>0.028236</td>\n",
       "      <td>0.475410</td>\n",
       "      <td>0.246092</td>\n",
       "      <td>0.603108</td>\n",
       "      <td>0.139694</td>\n",
       "      <td>0.981764</td>\n",
       "      <td>0.0</td>\n",
       "      <td>0</td>\n",
       "    </tr>\n",
       "    <tr>\n",
       "      <th>1</th>\n",
       "      <td>Image2</td>\n",
       "      <td>0.261489</td>\n",
       "      <td>0.276124</td>\n",
       "      <td>0.510114</td>\n",
       "      <td>0.674843</td>\n",
       "      <td>0.052278</td>\n",
       "      <td>0.007693</td>\n",
       "      <td>0.017951</td>\n",
       "      <td>0.797096</td>\n",
       "      <td>0.648383</td>\n",
       "      <td>0.773800</td>\n",
       "      <td>0.093527</td>\n",
       "      <td>0.997417</td>\n",
       "      <td>0.0</td>\n",
       "      <td>0</td>\n",
       "    </tr>\n",
       "    <tr>\n",
       "      <th>2</th>\n",
       "      <td>Image3</td>\n",
       "      <td>0.219003</td>\n",
       "      <td>0.392326</td>\n",
       "      <td>0.614200</td>\n",
       "      <td>0.001487</td>\n",
       "      <td>0.090618</td>\n",
       "      <td>0.016478</td>\n",
       "      <td>0.023280</td>\n",
       "      <td>0.012719</td>\n",
       "      <td>0.001173</td>\n",
       "      <td>0.230760</td>\n",
       "      <td>0.195261</td>\n",
       "      <td>0.972855</td>\n",
       "      <td>0.0</td>\n",
       "      <td>1</td>\n",
       "    </tr>\n",
       "    <tr>\n",
       "      <th>3</th>\n",
       "      <td>Image4</td>\n",
       "      <td>0.177300</td>\n",
       "      <td>0.329007</td>\n",
       "      <td>0.559750</td>\n",
       "      <td>0.001513</td>\n",
       "      <td>0.108202</td>\n",
       "      <td>0.021559</td>\n",
       "      <td>0.043805</td>\n",
       "      <td>0.012908</td>\n",
       "      <td>0.001192</td>\n",
       "      <td>0.196137</td>\n",
       "      <td>0.258588</td>\n",
       "      <td>0.941475</td>\n",
       "      <td>0.0</td>\n",
       "      <td>1</td>\n",
       "    </tr>\n",
       "    <tr>\n",
       "      <th>4</th>\n",
       "      <td>Image5</td>\n",
       "      <td>0.218223</td>\n",
       "      <td>0.249840</td>\n",
       "      <td>0.483677</td>\n",
       "      <td>0.370574</td>\n",
       "      <td>0.068403</td>\n",
       "      <td>0.011067</td>\n",
       "      <td>0.050836</td>\n",
       "      <td>0.564860</td>\n",
       "      <td>0.338854</td>\n",
       "      <td>0.560862</td>\n",
       "      <td>0.226679</td>\n",
       "      <td>0.960995</td>\n",
       "      <td>0.0</td>\n",
       "      <td>0</td>\n",
       "    </tr>\n",
       "  </tbody>\n",
       "</table>\n",
       "</div>"
      ],
      "text/plain": [
       "    Image      Mean  Variance  Standard Deviation   Entropy  Skewness  \\\n",
       "0  Image1  0.194705  0.212023            0.443074  0.274801  0.068211   \n",
       "1  Image2  0.261489  0.276124            0.510114  0.674843  0.052278   \n",
       "2  Image3  0.219003  0.392326            0.614200  0.001487  0.090618   \n",
       "3  Image4  0.177300  0.329007            0.559750  0.001513  0.108202   \n",
       "4  Image5  0.218223  0.249840            0.483677  0.370574  0.068403   \n",
       "\n",
       "   Kurtosis  Contrast    Energy       ASM  Homogeneity  Dissimilarity  \\\n",
       "0  0.010937  0.028236  0.475410  0.246092     0.603108       0.139694   \n",
       "1  0.007693  0.017951  0.797096  0.648383     0.773800       0.093527   \n",
       "2  0.016478  0.023280  0.012719  0.001173     0.230760       0.195261   \n",
       "3  0.021559  0.043805  0.012908  0.001192     0.196137       0.258588   \n",
       "4  0.011067  0.050836  0.564860  0.338854     0.560862       0.226679   \n",
       "\n",
       "   Correlation  Coarseness  Class  \n",
       "0     0.981764         0.0      0  \n",
       "1     0.997417         0.0      0  \n",
       "2     0.972855         0.0      1  \n",
       "3     0.941475         0.0      1  \n",
       "4     0.960995         0.0      0  "
      ]
     },
     "execution_count": 2,
     "metadata": {},
     "output_type": "execute_result"
    }
   ],
   "source": [
    "normal_data = pd.read_csv(os.getcwd() + '/Data/brain_tumour_normalized.csv')\n",
    "normal_data.head()"
   ]
  },
  {
   "cell_type": "code",
   "execution_count": 3,
   "metadata": {},
   "outputs": [
    {
     "data": {
      "text/plain": [
       "((3762, 13), (3762,))"
      ]
     },
     "execution_count": 3,
     "metadata": {},
     "output_type": "execute_result"
    }
   ],
   "source": [
    "X, Y = normal_data[normal_data.columns[1 : 14]], normal_data[normal_data.columns[-1]]\n",
    "X.shape, Y.shape"
   ]
  },
  {
   "cell_type": "markdown",
   "metadata": {},
   "source": [
    "#### Logistic Regression"
   ]
  },
  {
   "cell_type": "markdown",
   "metadata": {},
   "source": [
    "Without repeated folds:"
   ]
  },
  {
   "cell_type": "code",
   "execution_count": 4,
   "metadata": {},
   "outputs": [],
   "source": [
    "cv = KFold(n_splits = 10, shuffle = True, random_state = 42)  # create CV splits"
   ]
  },
  {
   "cell_type": "code",
   "execution_count": 5,
   "metadata": {},
   "outputs": [],
   "source": [
    "logisticRegr = LogisticRegression()  # create model\n",
    "\n",
    "scores = cross_val_score(logisticRegr, X, Y, scoring = 'accuracy', cv = cv)  # calc accuracy"
   ]
  },
  {
   "cell_type": "code",
   "execution_count": 6,
   "metadata": {},
   "outputs": [
    {
     "name": "stdout",
     "output_type": "stream",
     "text": [
      "Overall accuracy: 97.76736836164571\n",
      "Overall std. dev. of scores: 0.00571257777793943\n"
     ]
    }
   ],
   "source": [
    "print('Overall accuracy:', scores.mean() * 100)\n",
    "print('Overall std. dev. of scores:', scores.std())"
   ]
  },
  {
   "cell_type": "markdown",
   "metadata": {},
   "source": [
    "With repeated folds:"
   ]
  },
  {
   "cell_type": "code",
   "execution_count": 7,
   "metadata": {},
   "outputs": [],
   "source": [
    "cvr = RepeatedKFold(n_splits = 10, n_repeats = 3, random_state = 42)  # creates CV splits for repeated KFold CV"
   ]
  },
  {
   "cell_type": "code",
   "execution_count": 8,
   "metadata": {},
   "outputs": [],
   "source": [
    "logisticRegr = LogisticRegression()  # create model\n",
    "\n",
    "scores = cross_val_score(logisticRegr, X, Y, scoring = 'accuracy', cv = cvr)  # calc accuracy"
   ]
  },
  {
   "cell_type": "code",
   "execution_count": 9,
   "metadata": {},
   "outputs": [
    {
     "name": "stdout",
     "output_type": "stream",
     "text": [
      "Overall accuracy: 97.76713320917281\n",
      "Overall std. dev. of scores: 0.006159991467893768\n"
     ]
    }
   ],
   "source": [
    "print('Overall accuracy:', scores.mean() * 100)\n",
    "print('Overall std. dev. of scores:', scores.std())"
   ]
  },
  {
   "cell_type": "markdown",
   "metadata": {},
   "source": [
    "#### SVM - RBF Kernel"
   ]
  },
  {
   "cell_type": "markdown",
   "metadata": {},
   "source": [
    "Without repeated folds:"
   ]
  },
  {
   "cell_type": "code",
   "execution_count": 10,
   "metadata": {},
   "outputs": [],
   "source": [
    "cv = KFold(n_splits = 10, shuffle = True, random_state = 42)  # create CV splits"
   ]
  },
  {
   "cell_type": "code",
   "execution_count": 11,
   "metadata": {},
   "outputs": [],
   "source": [
    "svm_rbf = SVC(kernel = 'rbf', gamma = 'auto')  # create model\n",
    "\n",
    "scores = cross_val_score(svm_rbf, X, Y, scoring = 'accuracy', cv = cv)  # calc accuracy"
   ]
  },
  {
   "cell_type": "code",
   "execution_count": 12,
   "metadata": {},
   "outputs": [
    {
     "name": "stdout",
     "output_type": "stream",
     "text": [
      "Overall accuracy: 97.36871437440037\n",
      "Overall std. dev. of scores: 0.006099179752415618\n"
     ]
    }
   ],
   "source": [
    "print('Overall accuracy:', scores.mean() * 100)\n",
    "print('Overall std. dev. of scores:', scores.std())"
   ]
  },
  {
   "cell_type": "markdown",
   "metadata": {},
   "source": [
    "With repeated folds:"
   ]
  },
  {
   "cell_type": "code",
   "execution_count": 13,
   "metadata": {},
   "outputs": [],
   "source": [
    "cvr = RepeatedKFold(n_splits = 10, n_repeats = 3, random_state = 42)  # creates CV splits for repeated KFold CV"
   ]
  },
  {
   "cell_type": "code",
   "execution_count": 14,
   "metadata": {},
   "outputs": [],
   "source": [
    "svm_rbf = SVC(kernel = 'rbf', gamma = 'auto')  # create model\n",
    "\n",
    "scores = cross_val_score(svm_rbf, X, Y, scoring = 'accuracy', cv = cvr)  # calc accuracy"
   ]
  },
  {
   "cell_type": "code",
   "execution_count": 15,
   "metadata": {},
   "outputs": [
    {
     "name": "stdout",
     "output_type": "stream",
     "text": [
      "Overall accuracy: 97.32408243505087\n",
      "Overall std. dev. of scores: 0.006544625993357317\n"
     ]
    }
   ],
   "source": [
    "print('Overall accuracy:', scores.mean() * 100)\n",
    "print('Overall std. dev. of scores:', scores.std())"
   ]
  },
  {
   "cell_type": "markdown",
   "metadata": {},
   "source": [
    "#### SVM - Sigmoid Kernel"
   ]
  },
  {
   "cell_type": "markdown",
   "metadata": {},
   "source": [
    "Without repeated folds:"
   ]
  },
  {
   "cell_type": "code",
   "execution_count": 16,
   "metadata": {},
   "outputs": [],
   "source": [
    "cv = KFold(n_splits = 10, shuffle = True, random_state = 42)  # create CV splits"
   ]
  },
  {
   "cell_type": "code",
   "execution_count": 17,
   "metadata": {},
   "outputs": [],
   "source": [
    "svm_rbf = SVC(kernel = 'sigmoid', gamma = 'auto')  # create model\n",
    "\n",
    "scores = cross_val_score(svm_rbf, X, Y, scoring = 'accuracy', cv = cv)  # calc accuracy"
   ]
  },
  {
   "cell_type": "code",
   "execution_count": 18,
   "metadata": {},
   "outputs": [
    {
     "name": "stdout",
     "output_type": "stream",
     "text": [
      "Overall accuracy: 96.99658558609403\n",
      "Overall std. dev. of scores: 0.007416498502075566\n"
     ]
    }
   ],
   "source": [
    "print('Overall accuracy:', scores.mean() * 100)\n",
    "print('Overall std. dev. of scores:', scores.std())"
   ]
  },
  {
   "cell_type": "markdown",
   "metadata": {},
   "source": [
    "With repeated folds:"
   ]
  },
  {
   "cell_type": "code",
   "execution_count": 19,
   "metadata": {},
   "outputs": [],
   "source": [
    "cvr = RepeatedKFold(n_splits = 10, n_repeats = 3, random_state = 42)  # creates CV splits for repeated KFold CV"
   ]
  },
  {
   "cell_type": "code",
   "execution_count": 20,
   "metadata": {},
   "outputs": [],
   "source": [
    "svm_rbf = SVC(kernel = 'sigmoid', gamma = 'auto')  # create model\n",
    "\n",
    "scores = cross_val_score(svm_rbf, X, Y, scoring = 'accuracy', cv = cvr)  # calc accuracy"
   ]
  },
  {
   "cell_type": "code",
   "execution_count": 21,
   "metadata": {},
   "outputs": [
    {
     "name": "stdout",
     "output_type": "stream",
     "text": [
      "Overall accuracy: 97.00514513610624\n",
      "Overall std. dev. of scores: 0.007028382236675999\n"
     ]
    }
   ],
   "source": [
    "print('Overall accuracy:', scores.mean() * 100)\n",
    "print('Overall std. dev. of scores:', scores.std())"
   ]
  }
 ],
 "metadata": {
  "kernelspec": {
   "display_name": "Python 3",
   "language": "python",
   "name": "python3"
  },
  "language_info": {
   "codemirror_mode": {
    "name": "ipython",
    "version": 3
   },
   "file_extension": ".py",
   "mimetype": "text/x-python",
   "name": "python",
   "nbconvert_exporter": "python",
   "pygments_lexer": "ipython3",
   "version": "3.8.2"
  }
 },
 "nbformat": 4,
 "nbformat_minor": 4
}
