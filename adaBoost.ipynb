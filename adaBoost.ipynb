{
 "cells": [
  {
   "cell_type": "markdown",
   "metadata": {},
   "source": [
    "#### Import modules and read data"
   ]
  },
  {
   "cell_type": "code",
   "execution_count": 4,
   "metadata": {},
   "outputs": [],
   "source": [
    "import matplotlib.pyplot as plt\n",
    "import numpy as np\n",
    "import os\n",
    "import pandas as pd\n",
    "\n",
    "from sklearn import metrics\n",
    "from sklearn.ensemble import AdaBoostClassifier\n",
    "from sklearn.feature_selection import f_classif, SelectKBest\n",
    "from sklearn.model_selection import cross_validate, KFold, RepeatedKFold"
   ]
  },
  {
   "cell_type": "code",
   "execution_count": 2,
   "metadata": {},
   "outputs": [
    {
     "data": {
      "text/html": [
       "<div>\n",
       "<style scoped>\n",
       "    .dataframe tbody tr th:only-of-type {\n",
       "        vertical-align: middle;\n",
       "    }\n",
       "\n",
       "    .dataframe tbody tr th {\n",
       "        vertical-align: top;\n",
       "    }\n",
       "\n",
       "    .dataframe thead th {\n",
       "        text-align: right;\n",
       "    }\n",
       "</style>\n",
       "<table border=\"1\" class=\"dataframe\">\n",
       "  <thead>\n",
       "    <tr style=\"text-align: right;\">\n",
       "      <th></th>\n",
       "      <th>Image</th>\n",
       "      <th>Mean</th>\n",
       "      <th>Variance</th>\n",
       "      <th>Standard Deviation</th>\n",
       "      <th>Entropy</th>\n",
       "      <th>Skewness</th>\n",
       "      <th>Kurtosis</th>\n",
       "      <th>Contrast</th>\n",
       "      <th>Energy</th>\n",
       "      <th>ASM</th>\n",
       "      <th>Homogeneity</th>\n",
       "      <th>Dissimilarity</th>\n",
       "      <th>Correlation</th>\n",
       "      <th>Coarseness</th>\n",
       "      <th>Class</th>\n",
       "    </tr>\n",
       "  </thead>\n",
       "  <tbody>\n",
       "    <tr>\n",
       "      <th>0</th>\n",
       "      <td>Image1</td>\n",
       "      <td>0.194705</td>\n",
       "      <td>0.212023</td>\n",
       "      <td>0.443074</td>\n",
       "      <td>0.274801</td>\n",
       "      <td>0.068211</td>\n",
       "      <td>0.010937</td>\n",
       "      <td>0.028236</td>\n",
       "      <td>0.475410</td>\n",
       "      <td>0.246092</td>\n",
       "      <td>0.603108</td>\n",
       "      <td>0.139694</td>\n",
       "      <td>0.981764</td>\n",
       "      <td>0.0</td>\n",
       "      <td>0</td>\n",
       "    </tr>\n",
       "    <tr>\n",
       "      <th>1</th>\n",
       "      <td>Image2</td>\n",
       "      <td>0.261489</td>\n",
       "      <td>0.276124</td>\n",
       "      <td>0.510114</td>\n",
       "      <td>0.674843</td>\n",
       "      <td>0.052278</td>\n",
       "      <td>0.007693</td>\n",
       "      <td>0.017951</td>\n",
       "      <td>0.797096</td>\n",
       "      <td>0.648383</td>\n",
       "      <td>0.773800</td>\n",
       "      <td>0.093527</td>\n",
       "      <td>0.997417</td>\n",
       "      <td>0.0</td>\n",
       "      <td>0</td>\n",
       "    </tr>\n",
       "    <tr>\n",
       "      <th>2</th>\n",
       "      <td>Image3</td>\n",
       "      <td>0.219003</td>\n",
       "      <td>0.392326</td>\n",
       "      <td>0.614200</td>\n",
       "      <td>0.001487</td>\n",
       "      <td>0.090618</td>\n",
       "      <td>0.016478</td>\n",
       "      <td>0.023280</td>\n",
       "      <td>0.012719</td>\n",
       "      <td>0.001173</td>\n",
       "      <td>0.230760</td>\n",
       "      <td>0.195261</td>\n",
       "      <td>0.972855</td>\n",
       "      <td>0.0</td>\n",
       "      <td>1</td>\n",
       "    </tr>\n",
       "    <tr>\n",
       "      <th>3</th>\n",
       "      <td>Image4</td>\n",
       "      <td>0.177300</td>\n",
       "      <td>0.329007</td>\n",
       "      <td>0.559750</td>\n",
       "      <td>0.001513</td>\n",
       "      <td>0.108202</td>\n",
       "      <td>0.021559</td>\n",
       "      <td>0.043805</td>\n",
       "      <td>0.012908</td>\n",
       "      <td>0.001192</td>\n",
       "      <td>0.196137</td>\n",
       "      <td>0.258588</td>\n",
       "      <td>0.941475</td>\n",
       "      <td>0.0</td>\n",
       "      <td>1</td>\n",
       "    </tr>\n",
       "    <tr>\n",
       "      <th>4</th>\n",
       "      <td>Image5</td>\n",
       "      <td>0.218223</td>\n",
       "      <td>0.249840</td>\n",
       "      <td>0.483677</td>\n",
       "      <td>0.370574</td>\n",
       "      <td>0.068403</td>\n",
       "      <td>0.011067</td>\n",
       "      <td>0.050836</td>\n",
       "      <td>0.564860</td>\n",
       "      <td>0.338854</td>\n",
       "      <td>0.560862</td>\n",
       "      <td>0.226679</td>\n",
       "      <td>0.960995</td>\n",
       "      <td>0.0</td>\n",
       "      <td>0</td>\n",
       "    </tr>\n",
       "  </tbody>\n",
       "</table>\n",
       "</div>"
      ],
      "text/plain": [
       "    Image      Mean  Variance  Standard Deviation   Entropy  Skewness  \\\n",
       "0  Image1  0.194705  0.212023            0.443074  0.274801  0.068211   \n",
       "1  Image2  0.261489  0.276124            0.510114  0.674843  0.052278   \n",
       "2  Image3  0.219003  0.392326            0.614200  0.001487  0.090618   \n",
       "3  Image4  0.177300  0.329007            0.559750  0.001513  0.108202   \n",
       "4  Image5  0.218223  0.249840            0.483677  0.370574  0.068403   \n",
       "\n",
       "   Kurtosis  Contrast    Energy       ASM  Homogeneity  Dissimilarity  \\\n",
       "0  0.010937  0.028236  0.475410  0.246092     0.603108       0.139694   \n",
       "1  0.007693  0.017951  0.797096  0.648383     0.773800       0.093527   \n",
       "2  0.016478  0.023280  0.012719  0.001173     0.230760       0.195261   \n",
       "3  0.021559  0.043805  0.012908  0.001192     0.196137       0.258588   \n",
       "4  0.011067  0.050836  0.564860  0.338854     0.560862       0.226679   \n",
       "\n",
       "   Correlation  Coarseness  Class  \n",
       "0     0.981764         0.0      0  \n",
       "1     0.997417         0.0      0  \n",
       "2     0.972855         0.0      1  \n",
       "3     0.941475         0.0      1  \n",
       "4     0.960995         0.0      0  "
      ]
     },
     "execution_count": 2,
     "metadata": {},
     "output_type": "execute_result"
    }
   ],
   "source": [
    "normal_data = pd.read_csv(os.getcwd() + '/Data/brain_tumour_normalized.csv')\n",
    "normal_data.head()"
   ]
  },
  {
   "cell_type": "code",
   "execution_count": 3,
   "metadata": {},
   "outputs": [
    {
     "data": {
      "text/plain": [
       "((3762, 13), (3762,))"
      ]
     },
     "execution_count": 3,
     "metadata": {},
     "output_type": "execute_result"
    }
   ],
   "source": [
    "X, Y = normal_data[normal_data.columns[1 : 14]], normal_data[normal_data.columns[-1]]\n",
    "X.shape, Y.shape"
   ]
  },
  {
   "cell_type": "markdown",
   "metadata": {},
   "source": [
    "#### Feature selection using ANOVA F-value"
   ]
  },
  {
   "cell_type": "code",
   "execution_count": 5,
   "metadata": {},
   "outputs": [],
   "source": [
    "k = 6\n",
    "\n",
    "feature_selection = SelectKBest(score_func = f_classif, k = k)  # select k best features using ANOVA F-value\n",
    "\n",
    "fit = feature_selection.fit(X, Y)"
   ]
  },
  {
   "cell_type": "code",
   "execution_count": 6,
   "metadata": {},
   "outputs": [
    {
     "data": {
      "text/html": [
       "<div>\n",
       "<style scoped>\n",
       "    .dataframe tbody tr th:only-of-type {\n",
       "        vertical-align: middle;\n",
       "    }\n",
       "\n",
       "    .dataframe tbody tr th {\n",
       "        vertical-align: top;\n",
       "    }\n",
       "\n",
       "    .dataframe thead th {\n",
       "        text-align: right;\n",
       "    }\n",
       "</style>\n",
       "<table border=\"1\" class=\"dataframe\">\n",
       "  <thead>\n",
       "    <tr style=\"text-align: right;\">\n",
       "      <th></th>\n",
       "      <th>scores</th>\n",
       "      <th>cols</th>\n",
       "    </tr>\n",
       "  </thead>\n",
       "  <tbody>\n",
       "    <tr>\n",
       "      <th>7</th>\n",
       "      <td>10913.518208</td>\n",
       "      <td>Energy</td>\n",
       "    </tr>\n",
       "    <tr>\n",
       "      <th>9</th>\n",
       "      <td>9587.758475</td>\n",
       "      <td>Homogeneity</td>\n",
       "    </tr>\n",
       "    <tr>\n",
       "      <th>3</th>\n",
       "      <td>5772.609943</td>\n",
       "      <td>Entropy</td>\n",
       "    </tr>\n",
       "    <tr>\n",
       "      <th>8</th>\n",
       "      <td>5086.027179</td>\n",
       "      <td>ASM</td>\n",
       "    </tr>\n",
       "    <tr>\n",
       "      <th>10</th>\n",
       "      <td>1685.254630</td>\n",
       "      <td>Dissimilarity</td>\n",
       "    </tr>\n",
       "    <tr>\n",
       "      <th>4</th>\n",
       "      <td>727.528516</td>\n",
       "      <td>Skewness</td>\n",
       "    </tr>\n",
       "  </tbody>\n",
       "</table>\n",
       "</div>"
      ],
      "text/plain": [
       "          scores           cols\n",
       "7   10913.518208         Energy\n",
       "9    9587.758475    Homogeneity\n",
       "3    5772.609943        Entropy\n",
       "8    5086.027179            ASM\n",
       "10   1685.254630  Dissimilarity\n",
       "4     727.528516       Skewness"
      ]
     },
     "execution_count": 6,
     "metadata": {},
     "output_type": "execute_result"
    }
   ],
   "source": [
    "pd.DataFrame({'scores': fit.scores_, 'cols': X.columns}).sort_values(by = 'scores', ascending = False).head(k)  # k best features"
   ]
  },
  {
   "cell_type": "code",
   "execution_count": 7,
   "metadata": {},
   "outputs": [
    {
     "data": {
      "text/plain": [
       "(3762, 6)"
      ]
     },
     "execution_count": 7,
     "metadata": {},
     "output_type": "execute_result"
    }
   ],
   "source": [
    "X_fs = feature_selection.transform(X)\n",
    "X_fs.shape"
   ]
  },
  {
   "cell_type": "markdown",
   "metadata": {},
   "source": [
    "#### Cross-validation without Feature Selection"
   ]
  },
  {
   "cell_type": "code",
   "execution_count": 8,
   "metadata": {},
   "outputs": [],
   "source": [
    "def crossVal(model, cv_selected):\n",
    "    scoring = ['accuracy', 'precision', 'recall']  # select metrics\n",
    "    scores = cross_validate(model, X, Y, scoring = scoring, cv = cv_selected)  # calc scores\n",
    "    \n",
    "    print('Test accuracy:', scores['test_accuracy'].mean() * 100)\n",
    "    print('Test std. dev. of accuracy:', scores['test_accuracy'].std())\n",
    "    print('-' * 10)\n",
    "    print('Test sensitivity:', scores['test_recall'].mean() * 100)\n",
    "    print('Test std. dev. of sensitivity:', scores['test_recall'].std())\n",
    "    print('-' * 10)\n",
    "    print('Test precision:', scores['test_precision'].mean() * 100)\n",
    "    print('Test std. dev. of precision:', scores['test_precision'].std())"
   ]
  },
  {
   "cell_type": "code",
   "execution_count": 9,
   "metadata": {},
   "outputs": [],
   "source": [
    "adaBoost = AdaBoostClassifier()"
   ]
  },
  {
   "cell_type": "markdown",
   "metadata": {},
   "source": [
    "Without repeated folds:"
   ]
  },
  {
   "cell_type": "code",
   "execution_count": 10,
   "metadata": {},
   "outputs": [
    {
     "name": "stdout",
     "output_type": "stream",
     "text": [
      "Test accuracy: 98.61786782549805\n",
      "Test std. dev. of accuracy: 0.006268334181714131\n",
      "----------\n",
      "Test sensitivity: 97.67718381081835\n",
      "Test std. dev. of sensitivity: 0.014020642062510967\n",
      "----------\n",
      "Test precision: 99.21004019232453\n",
      "Test std. dev. of precision: 0.006596021313716727\n"
     ]
    }
   ],
   "source": [
    "cv = KFold(n_splits = 10, shuffle = True, random_state = 42)  # create CV splits\n",
    "\n",
    "crossVal(adaBoost, cv)"
   ]
  },
  {
   "cell_type": "markdown",
   "metadata": {},
   "source": [
    "With repeated folds:"
   ]
  },
  {
   "cell_type": "code",
   "execution_count": 11,
   "metadata": {},
   "outputs": [
    {
     "name": "stdout",
     "output_type": "stream",
     "text": [
      "Test accuracy: 98.75058788118216\n",
      "Test std. dev. of accuracy: 0.0051450117361733485\n",
      "----------\n",
      "Test sensitivity: 97.9049444089611\n",
      "Test std. dev. of sensitivity: 0.010808683837078729\n",
      "----------\n",
      "Test precision: 99.29754164092037\n",
      "Test std. dev. of precision: 0.005643862714722419\n"
     ]
    }
   ],
   "source": [
    "cvr = RepeatedKFold(n_splits = 10, n_repeats = 3, random_state = 42)  # creates CV splits for repeated KFold CV\n",
    "\n",
    "crossVal(adaBoost, cvr)"
   ]
  }
 ],
 "metadata": {
  "kernelspec": {
   "display_name": "Python 3",
   "language": "python",
   "name": "python3"
  },
  "language_info": {
   "codemirror_mode": {
    "name": "ipython",
    "version": 3
   },
   "file_extension": ".py",
   "mimetype": "text/x-python",
   "name": "python",
   "nbconvert_exporter": "python",
   "pygments_lexer": "ipython3",
   "version": "3.8.2"
  }
 },
 "nbformat": 4,
 "nbformat_minor": 4
}
